{
 "cells": [
  {
   "cell_type": "code",
   "execution_count": 77,
   "metadata": {},
   "outputs": [],
   "source": [
    "import numpy as np\n",
    "import scipy as sc\n",
    "import pandas as pd\n",
    "\n",
    "from sklearn.preprocessing import MinMaxScaler\n",
    "import keras as K\n",
    "import keras.models as M\n",
    "from keras.layers import *"
   ]
  },
  {
   "cell_type": "code",
   "execution_count": 78,
   "metadata": {},
   "outputs": [
    {
     "data": {
      "text/html": [
       "<div>\n",
       "<style scoped>\n",
       "    .dataframe tbody tr th:only-of-type {\n",
       "        vertical-align: middle;\n",
       "    }\n",
       "\n",
       "    .dataframe tbody tr th {\n",
       "        vertical-align: top;\n",
       "    }\n",
       "\n",
       "    .dataframe thead th {\n",
       "        text-align: right;\n",
       "    }\n",
       "</style>\n",
       "<table border=\"1\" class=\"dataframe\">\n",
       "  <thead>\n",
       "    <tr style=\"text-align: right;\">\n",
       "      <th></th>\n",
       "      <th>critic_rating</th>\n",
       "      <th>is_action</th>\n",
       "      <th>is_exclusive_to_us</th>\n",
       "      <th>is_portable</th>\n",
       "      <th>is_role_playing</th>\n",
       "      <th>is_sequel</th>\n",
       "      <th>is_sports</th>\n",
       "      <th>suitable_for_kids</th>\n",
       "      <th>total_earnings</th>\n",
       "      <th>unit_price</th>\n",
       "    </tr>\n",
       "  </thead>\n",
       "  <tbody>\n",
       "    <tr>\n",
       "      <td>0</td>\n",
       "      <td>3.5</td>\n",
       "      <td>1</td>\n",
       "      <td>0</td>\n",
       "      <td>1</td>\n",
       "      <td>0</td>\n",
       "      <td>1</td>\n",
       "      <td>0</td>\n",
       "      <td>0</td>\n",
       "      <td>132717</td>\n",
       "      <td>59.99</td>\n",
       "    </tr>\n",
       "    <tr>\n",
       "      <td>1</td>\n",
       "      <td>4.5</td>\n",
       "      <td>0</td>\n",
       "      <td>0</td>\n",
       "      <td>0</td>\n",
       "      <td>0</td>\n",
       "      <td>1</td>\n",
       "      <td>1</td>\n",
       "      <td>0</td>\n",
       "      <td>83407</td>\n",
       "      <td>49.99</td>\n",
       "    </tr>\n",
       "    <tr>\n",
       "      <td>2</td>\n",
       "      <td>3.0</td>\n",
       "      <td>0</td>\n",
       "      <td>0</td>\n",
       "      <td>0</td>\n",
       "      <td>0</td>\n",
       "      <td>1</td>\n",
       "      <td>1</td>\n",
       "      <td>0</td>\n",
       "      <td>62423</td>\n",
       "      <td>49.99</td>\n",
       "    </tr>\n",
       "    <tr>\n",
       "      <td>3</td>\n",
       "      <td>4.5</td>\n",
       "      <td>1</td>\n",
       "      <td>0</td>\n",
       "      <td>0</td>\n",
       "      <td>0</td>\n",
       "      <td>0</td>\n",
       "      <td>0</td>\n",
       "      <td>1</td>\n",
       "      <td>69889</td>\n",
       "      <td>39.99</td>\n",
       "    </tr>\n",
       "    <tr>\n",
       "      <td>4</td>\n",
       "      <td>4.0</td>\n",
       "      <td>1</td>\n",
       "      <td>0</td>\n",
       "      <td>1</td>\n",
       "      <td>0</td>\n",
       "      <td>1</td>\n",
       "      <td>0</td>\n",
       "      <td>1</td>\n",
       "      <td>161382</td>\n",
       "      <td>59.99</td>\n",
       "    </tr>\n",
       "  </tbody>\n",
       "</table>\n",
       "</div>"
      ],
      "text/plain": [
       "   critic_rating  is_action  is_exclusive_to_us  is_portable  is_role_playing  \\\n",
       "0            3.5          1                   0            1                0   \n",
       "1            4.5          0                   0            0                0   \n",
       "2            3.0          0                   0            0                0   \n",
       "3            4.5          1                   0            0                0   \n",
       "4            4.0          1                   0            1                0   \n",
       "\n",
       "   is_sequel  is_sports  suitable_for_kids  total_earnings  unit_price  \n",
       "0          1          0                  0          132717       59.99  \n",
       "1          1          1                  0           83407       49.99  \n",
       "2          1          1                  0           62423       49.99  \n",
       "3          0          0                  1           69889       39.99  \n",
       "4          1          0                  1          161382       59.99  "
      ]
     },
     "execution_count": 78,
     "metadata": {},
     "output_type": "execute_result"
    }
   ],
   "source": [
    "#load Data\n",
    "\n",
    "train_df = pd.read_csv(\"dataset/sales_data_training.csv\")\n",
    "test_df = pd.read_csv(\"dataset/sales_data_test.csv\")\n",
    "out_df = pd.read_csv(\"dataset/proposed_new_product.csv\").values\n",
    "\n",
    "train_df.head()"
   ]
  },
  {
   "cell_type": "code",
   "execution_count": 79,
   "metadata": {},
   "outputs": [
    {
     "data": {
      "text/plain": [
       "array([[0.5       , 1.        , 0.        , ..., 0.        , 0.37471396,\n",
       "        1.        ],\n",
       "       [0.83333333, 0.        , 0.        , ..., 0.        , 0.19242528,\n",
       "        0.5       ],\n",
       "       [0.33333333, 0.        , 0.        , ..., 0.        , 0.11485185,\n",
       "        0.5       ],\n",
       "       ...,\n",
       "       [0.83333333, 0.        , 1.        , ..., 0.        , 0.61007375,\n",
       "        1.        ],\n",
       "       [0.5       , 1.        , 1.        , ..., 1.        , 0.24626902,\n",
       "        0.        ],\n",
       "       [0.33333333, 1.        , 0.        , ..., 1.        , 0.21633242,\n",
       "        0.5       ]])"
      ]
     },
     "execution_count": 79,
     "metadata": {},
     "output_type": "execute_result"
    }
   ],
   "source": [
    "#Scaled Data\n",
    "\n",
    "scaler = MinMaxScaler(feature_range = (0,1))\n",
    "\n",
    "scaled_train_df = scaler.fit_transform(train_df)\n",
    "scaled_test_df = scaler.transform(test_df)\n",
    "\n",
    "scaled_train_df"
   ]
  },
  {
   "cell_type": "code",
   "execution_count": 80,
   "metadata": {},
   "outputs": [
    {
     "data": {
      "text/html": [
       "<div>\n",
       "<style scoped>\n",
       "    .dataframe tbody tr th:only-of-type {\n",
       "        vertical-align: middle;\n",
       "    }\n",
       "\n",
       "    .dataframe tbody tr th {\n",
       "        vertical-align: top;\n",
       "    }\n",
       "\n",
       "    .dataframe thead th {\n",
       "        text-align: right;\n",
       "    }\n",
       "</style>\n",
       "<table border=\"1\" class=\"dataframe\">\n",
       "  <thead>\n",
       "    <tr style=\"text-align: right;\">\n",
       "      <th></th>\n",
       "      <th>critic_rating</th>\n",
       "      <th>is_action</th>\n",
       "      <th>is_exclusive_to_us</th>\n",
       "      <th>is_portable</th>\n",
       "      <th>is_role_playing</th>\n",
       "      <th>is_sequel</th>\n",
       "      <th>is_sports</th>\n",
       "      <th>suitable_for_kids</th>\n",
       "      <th>total_earnings</th>\n",
       "      <th>unit_price</th>\n",
       "    </tr>\n",
       "  </thead>\n",
       "  <tbody>\n",
       "    <tr>\n",
       "      <td>0</td>\n",
       "      <td>0.500000</td>\n",
       "      <td>1.0</td>\n",
       "      <td>0.0</td>\n",
       "      <td>1.0</td>\n",
       "      <td>0.0</td>\n",
       "      <td>1.0</td>\n",
       "      <td>0.0</td>\n",
       "      <td>0.0</td>\n",
       "      <td>0.374714</td>\n",
       "      <td>1.0</td>\n",
       "    </tr>\n",
       "    <tr>\n",
       "      <td>1</td>\n",
       "      <td>0.833333</td>\n",
       "      <td>0.0</td>\n",
       "      <td>0.0</td>\n",
       "      <td>0.0</td>\n",
       "      <td>0.0</td>\n",
       "      <td>1.0</td>\n",
       "      <td>1.0</td>\n",
       "      <td>0.0</td>\n",
       "      <td>0.192425</td>\n",
       "      <td>0.5</td>\n",
       "    </tr>\n",
       "    <tr>\n",
       "      <td>2</td>\n",
       "      <td>0.333333</td>\n",
       "      <td>0.0</td>\n",
       "      <td>0.0</td>\n",
       "      <td>0.0</td>\n",
       "      <td>0.0</td>\n",
       "      <td>1.0</td>\n",
       "      <td>1.0</td>\n",
       "      <td>0.0</td>\n",
       "      <td>0.114852</td>\n",
       "      <td>0.5</td>\n",
       "    </tr>\n",
       "    <tr>\n",
       "      <td>3</td>\n",
       "      <td>0.833333</td>\n",
       "      <td>1.0</td>\n",
       "      <td>0.0</td>\n",
       "      <td>0.0</td>\n",
       "      <td>0.0</td>\n",
       "      <td>0.0</td>\n",
       "      <td>0.0</td>\n",
       "      <td>1.0</td>\n",
       "      <td>0.142452</td>\n",
       "      <td>0.0</td>\n",
       "    </tr>\n",
       "    <tr>\n",
       "      <td>4</td>\n",
       "      <td>0.666667</td>\n",
       "      <td>1.0</td>\n",
       "      <td>0.0</td>\n",
       "      <td>1.0</td>\n",
       "      <td>0.0</td>\n",
       "      <td>1.0</td>\n",
       "      <td>0.0</td>\n",
       "      <td>1.0</td>\n",
       "      <td>0.480682</td>\n",
       "      <td>1.0</td>\n",
       "    </tr>\n",
       "  </tbody>\n",
       "</table>\n",
       "</div>"
      ],
      "text/plain": [
       "   critic_rating  is_action  is_exclusive_to_us  is_portable  is_role_playing  \\\n",
       "0       0.500000        1.0                 0.0          1.0              0.0   \n",
       "1       0.833333        0.0                 0.0          0.0              0.0   \n",
       "2       0.333333        0.0                 0.0          0.0              0.0   \n",
       "3       0.833333        1.0                 0.0          0.0              0.0   \n",
       "4       0.666667        1.0                 0.0          1.0              0.0   \n",
       "\n",
       "   is_sequel  is_sports  suitable_for_kids  total_earnings  unit_price  \n",
       "0        1.0        0.0                0.0        0.374714         1.0  \n",
       "1        1.0        1.0                0.0        0.192425         0.5  \n",
       "2        1.0        1.0                0.0        0.114852         0.5  \n",
       "3        0.0        0.0                1.0        0.142452         0.0  \n",
       "4        1.0        0.0                1.0        0.480682         1.0  "
      ]
     },
     "execution_count": 80,
     "metadata": {},
     "output_type": "execute_result"
    }
   ],
   "source": [
    "#scaled data is converted in Dataframe\n",
    "\n",
    "scaled_train_df = pd.DataFrame(data = scaled_train_df, columns = train_df.columns.values)\n",
    "\n",
    "scaled_test_df = pd.DataFrame(data = scaled_test_df, columns = test_df.columns.values)\n",
    "\n",
    "scaled_train_df.head()"
   ]
  },
  {
   "cell_type": "code",
   "execution_count": 81,
   "metadata": {},
   "outputs": [
    {
     "data": {
      "text/plain": [
       "array([[0.5       , 1.        , 0.        , ..., 0.        , 0.        ,\n",
       "        1.        ],\n",
       "       [0.83333333, 0.        , 0.        , ..., 1.        , 0.        ,\n",
       "        0.5       ],\n",
       "       [0.33333333, 0.        , 0.        , ..., 1.        , 0.        ,\n",
       "        0.5       ],\n",
       "       ...,\n",
       "       [0.83333333, 0.        , 1.        , ..., 0.        , 0.        ,\n",
       "        1.        ],\n",
       "       [0.5       , 1.        , 1.        , ..., 0.        , 1.        ,\n",
       "        0.        ],\n",
       "       [0.33333333, 1.        , 0.        , ..., 0.        , 1.        ,\n",
       "        0.5       ]])"
      ]
     },
     "execution_count": 81,
     "metadata": {},
     "output_type": "execute_result"
    }
   ],
   "source": [
    "#Stacking features\n",
    "\n",
    "X = scaled_train_df.drop('total_earnings', axis = 1).values\n",
    "Y = scaled_train_df['total_earnings'].values\n",
    "\n",
    "X_test = scaled_test_df.drop('total_earnings', axis = 1).values\n",
    "Y_test = scaled_test_df['total_earnings'].values\n",
    "\n",
    "X"
   ]
  },
  {
   "cell_type": "code",
   "execution_count": 90,
   "metadata": {},
   "outputs": [],
   "source": [
    "model = M.Sequential()\n",
    "\n",
    "model.add(Dense(50, input_dim = 9, activation = 'relu', name = \"layer_1\"))\n",
    "model.add(Dense(100, activation = 'relu', name = \"layer_2\"))\n",
    "model.add(Dense(50, activation = 'relu', name = \"layer_3\"))\n",
    "model.add(Dense(1, activation = 'linear', name = \"output_layer\"))\n",
    "\n",
    "model.compile(optimizer = 'adam', loss = 'mean_squared_error')\n",
    "\n",
    "#creating tenserflow loggers\n",
    "logger = K.callbacks.TensorBoard(log_dir = \"logs\", write_graph = True, histogram_freq = 0)"
   ]
  },
  {
   "cell_type": "code",
   "execution_count": 91,
   "metadata": {},
   "outputs": [
    {
     "name": "stdout",
     "output_type": "stream",
     "text": [
      "Epoch 1/50\n",
      " - 0s - loss: 0.0465\n",
      "Epoch 2/50\n",
      " - 0s - loss: 0.0043\n",
      "Epoch 3/50\n",
      " - 0s - loss: 0.0014\n",
      "Epoch 4/50\n",
      " - 0s - loss: 7.2752e-04\n",
      "Epoch 5/50\n",
      " - 0s - loss: 4.7855e-04\n",
      "Epoch 6/50\n",
      " - 0s - loss: 3.4019e-04\n",
      "Epoch 7/50\n",
      " - 0s - loss: 2.5445e-04\n",
      "Epoch 8/50\n",
      " - 0s - loss: 1.9960e-04\n",
      "Epoch 9/50\n",
      " - 0s - loss: 1.6117e-04\n",
      "Epoch 10/50\n",
      " - 0s - loss: 1.3191e-04\n",
      "Epoch 11/50\n",
      " - 0s - loss: 1.2156e-04\n",
      "Epoch 12/50\n",
      " - 0s - loss: 9.9674e-05\n",
      "Epoch 13/50\n",
      " - 0s - loss: 8.4557e-05\n",
      "Epoch 14/50\n",
      " - 0s - loss: 7.2857e-05\n",
      "Epoch 15/50\n",
      " - 0s - loss: 6.5346e-05\n",
      "Epoch 16/50\n",
      " - 0s - loss: 6.2171e-05\n",
      "Epoch 17/50\n",
      " - 0s - loss: 6.3578e-05\n",
      "Epoch 18/50\n",
      " - 0s - loss: 5.0769e-05\n",
      "Epoch 19/50\n",
      " - 0s - loss: 4.6791e-05\n",
      "Epoch 20/50\n",
      " - 0s - loss: 4.6701e-05\n",
      "Epoch 21/50\n",
      " - 0s - loss: 4.8113e-05\n",
      "Epoch 22/50\n",
      " - 0s - loss: 3.8273e-05\n",
      "Epoch 23/50\n",
      " - 0s - loss: 4.1762e-05\n",
      "Epoch 24/50\n",
      " - 0s - loss: 3.6937e-05\n",
      "Epoch 25/50\n",
      " - 0s - loss: 3.2278e-05\n",
      "Epoch 26/50\n",
      " - 0s - loss: 3.9016e-05\n",
      "Epoch 27/50\n",
      " - 0s - loss: 3.1672e-05\n",
      "Epoch 28/50\n",
      " - 0s - loss: 2.7762e-05\n",
      "Epoch 29/50\n",
      " - 0s - loss: 2.7356e-05\n",
      "Epoch 30/50\n",
      " - 0s - loss: 2.3786e-05\n",
      "Epoch 31/50\n",
      " - 0s - loss: 2.5359e-05\n",
      "Epoch 32/50\n",
      " - 0s - loss: 2.1312e-05\n",
      "Epoch 33/50\n",
      " - 0s - loss: 2.6420e-05\n",
      "Epoch 34/50\n",
      " - 0s - loss: 2.5221e-05\n",
      "Epoch 35/50\n",
      " - 0s - loss: 2.4812e-05\n",
      "Epoch 36/50\n",
      " - 0s - loss: 2.6679e-05\n",
      "Epoch 37/50\n",
      " - 0s - loss: 2.5014e-05\n",
      "Epoch 38/50\n",
      " - 0s - loss: 2.0447e-05\n",
      "Epoch 39/50\n",
      " - 0s - loss: 2.0096e-05\n",
      "Epoch 40/50\n",
      " - 0s - loss: 2.2782e-05\n",
      "Epoch 41/50\n",
      " - 0s - loss: 2.3041e-05\n",
      "Epoch 42/50\n",
      " - 0s - loss: 2.2571e-05\n",
      "Epoch 43/50\n",
      " - 0s - loss: 2.0432e-05\n",
      "Epoch 44/50\n",
      " - 0s - loss: 2.3655e-05\n",
      "Epoch 45/50\n",
      " - 0s - loss: 1.9493e-05\n",
      "Epoch 46/50\n",
      " - 0s - loss: 2.4699e-05\n",
      "Epoch 47/50\n",
      " - 0s - loss: 2.1786e-05\n",
      "Epoch 48/50\n",
      " - 0s - loss: 3.3050e-05\n",
      "Epoch 49/50\n",
      " - 0s - loss: 2.2678e-05\n",
      "Epoch 50/50\n",
      " - 0s - loss: 2.4215e-05\n"
     ]
    },
    {
     "data": {
      "text/plain": [
       "<keras.callbacks.History at 0x7f2ccf63bc50>"
      ]
     },
     "execution_count": 91,
     "metadata": {},
     "output_type": "execute_result"
    }
   ],
   "source": [
    "model.fit(x = X, y = Y, epochs = 50, verbose = 2, shuffle = True, callbacks = [logger])"
   ]
  },
  {
   "cell_type": "code",
   "execution_count": 92,
   "metadata": {},
   "outputs": [
    {
     "name": "stdout",
     "output_type": "stream",
     "text": [
      "400/400 [==============================] - 0s 402us/step\n"
     ]
    },
    {
     "data": {
      "text/plain": [
       "0.0001031897404755"
      ]
     },
     "execution_count": 92,
     "metadata": {},
     "output_type": "execute_result"
    }
   ],
   "source": [
    "model.evaluate(X_test, Y_test, verbose = 1)"
   ]
  },
  {
   "cell_type": "code",
   "execution_count": 74,
   "metadata": {},
   "outputs": [],
   "source": [
    "prediction = model.predict(out_df)"
   ]
  },
  {
   "cell_type": "code",
   "execution_count": 75,
   "metadata": {},
   "outputs": [
    {
     "name": "stdout",
     "output_type": "stream",
     "text": [
      "Earnings will be :  313749.4863092164\n"
     ]
    }
   ],
   "source": [
    "prediction = prediction[0][0]\n",
    "\n",
    "prediction += 1159\n",
    "prediction /= 0.0036968\n",
    "\n",
    "print(\"Earnings will be : \", prediction)"
   ]
  },
  {
   "cell_type": "code",
   "execution_count": 76,
   "metadata": {},
   "outputs": [],
   "source": [
    "#save the model\n",
    "\n",
    "model.save(\"myFirstModel.h5\")"
   ]
  }
 ],
 "metadata": {
  "kernelspec": {
   "display_name": "Python 3",
   "language": "python",
   "name": "python3"
  },
  "language_info": {
   "codemirror_mode": {
    "name": "ipython",
    "version": 3
   },
   "file_extension": ".py",
   "mimetype": "text/x-python",
   "name": "python",
   "nbconvert_exporter": "python",
   "pygments_lexer": "ipython3",
   "version": "3.7.4"
  }
 },
 "nbformat": 4,
 "nbformat_minor": 2
}
